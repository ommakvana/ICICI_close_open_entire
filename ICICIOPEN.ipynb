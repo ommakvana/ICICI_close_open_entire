{
 "cells": [
  {
   "cell_type": "code",
   "execution_count": 197,
   "metadata": {},
   "outputs": [],
   "source": [
    "import pandas as pd\n",
    "import numpy as np\n",
    "import matplotlib.pyplot as plt\n",
    "import seaborn as sns\n",
    "from sklearn.preprocessing import MinMaxScaler\n",
    "import tensorflow as tf\n",
    "from keras.models import Sequential\n",
    "from keras.layers import LSTM\n",
    "from keras.layers import Dropout\n",
    "from keras.layers import Dense\n",
    "from keras.layers import GRU \n",
    "from keras.optimizers import SGD"
   ]
  },
  {
   "cell_type": "code",
   "execution_count": 198,
   "metadata": {},
   "outputs": [],
   "source": [
    "ic = pd.read_csv('ICICIBANK.yahoo.csv')"
   ]
  },
  {
   "cell_type": "code",
   "execution_count": 199,
   "metadata": {},
   "outputs": [],
   "source": [
    "ic['Date'] = pd.to_datetime(ic['Date'])\n",
    "ic.index = ic['Date']\n",
    "ic.index.name = None"
   ]
  },
  {
   "cell_type": "code",
   "execution_count": 200,
   "metadata": {},
   "outputs": [
    {
     "data": {
      "text/html": [
       "<div>\n",
       "<style scoped>\n",
       "    .dataframe tbody tr th:only-of-type {\n",
       "        vertical-align: middle;\n",
       "    }\n",
       "\n",
       "    .dataframe tbody tr th {\n",
       "        vertical-align: top;\n",
       "    }\n",
       "\n",
       "    .dataframe thead th {\n",
       "        text-align: right;\n",
       "    }\n",
       "</style>\n",
       "<table border=\"1\" class=\"dataframe\">\n",
       "  <thead>\n",
       "    <tr style=\"text-align: right;\">\n",
       "      <th></th>\n",
       "      <th>Date</th>\n",
       "      <th>Open</th>\n",
       "      <th>High</th>\n",
       "      <th>Low</th>\n",
       "      <th>Close</th>\n",
       "      <th>Adj Close</th>\n",
       "      <th>Volume</th>\n",
       "    </tr>\n",
       "  </thead>\n",
       "  <tbody>\n",
       "    <tr>\n",
       "      <th>2002-07-01</th>\n",
       "      <td>2002-07-01</td>\n",
       "      <td>25.418180</td>\n",
       "      <td>25.818180</td>\n",
       "      <td>24.818180</td>\n",
       "      <td>25.127272</td>\n",
       "      <td>18.280954</td>\n",
       "      <td>2047540.0</td>\n",
       "    </tr>\n",
       "    <tr>\n",
       "      <th>2002-07-02</th>\n",
       "      <td>2002-07-02</td>\n",
       "      <td>25.454544</td>\n",
       "      <td>27.636362</td>\n",
       "      <td>25.236362</td>\n",
       "      <td>26.745455</td>\n",
       "      <td>19.458239</td>\n",
       "      <td>5546354.0</td>\n",
       "    </tr>\n",
       "    <tr>\n",
       "      <th>2002-07-03</th>\n",
       "      <td>2002-07-03</td>\n",
       "      <td>26.727272</td>\n",
       "      <td>28.181818</td>\n",
       "      <td>26.645454</td>\n",
       "      <td>28.090908</td>\n",
       "      <td>20.437101</td>\n",
       "      <td>5745267.0</td>\n",
       "    </tr>\n",
       "    <tr>\n",
       "      <th>2002-07-04</th>\n",
       "      <td>2002-07-04</td>\n",
       "      <td>28.181818</td>\n",
       "      <td>28.799999</td>\n",
       "      <td>27.036364</td>\n",
       "      <td>27.390909</td>\n",
       "      <td>19.927828</td>\n",
       "      <td>3896601.0</td>\n",
       "    </tr>\n",
       "    <tr>\n",
       "      <th>2002-07-05</th>\n",
       "      <td>2002-07-05</td>\n",
       "      <td>27.090908</td>\n",
       "      <td>27.863636</td>\n",
       "      <td>26.945454</td>\n",
       "      <td>27.672728</td>\n",
       "      <td>20.132860</td>\n",
       "      <td>3261038.0</td>\n",
       "    </tr>\n",
       "  </tbody>\n",
       "</table>\n",
       "</div>"
      ],
      "text/plain": [
       "                 Date       Open       High        Low      Close  Adj Close  \\\n",
       "2002-07-01 2002-07-01  25.418180  25.818180  24.818180  25.127272  18.280954   \n",
       "2002-07-02 2002-07-02  25.454544  27.636362  25.236362  26.745455  19.458239   \n",
       "2002-07-03 2002-07-03  26.727272  28.181818  26.645454  28.090908  20.437101   \n",
       "2002-07-04 2002-07-04  28.181818  28.799999  27.036364  27.390909  19.927828   \n",
       "2002-07-05 2002-07-05  27.090908  27.863636  26.945454  27.672728  20.132860   \n",
       "\n",
       "               Volume  \n",
       "2002-07-01  2047540.0  \n",
       "2002-07-02  5546354.0  \n",
       "2002-07-03  5745267.0  \n",
       "2002-07-04  3896601.0  \n",
       "2002-07-05  3261038.0  "
      ]
     },
     "execution_count": 200,
     "metadata": {},
     "output_type": "execute_result"
    }
   ],
   "source": [
    "ic.head()"
   ]
  },
  {
   "cell_type": "code",
   "execution_count": 201,
   "metadata": {},
   "outputs": [
    {
     "name": "stdout",
     "output_type": "stream",
     "text": [
      "<class 'pandas.core.frame.DataFrame'>\n",
      "DatetimeIndex: 5442 entries, 2002-07-01 to 2024-05-17\n",
      "Data columns (total 7 columns):\n",
      " #   Column     Non-Null Count  Dtype         \n",
      "---  ------     --------------  -----         \n",
      " 0   Date       5442 non-null   datetime64[ns]\n",
      " 1   Open       5432 non-null   float64       \n",
      " 2   High       5432 non-null   float64       \n",
      " 3   Low        5432 non-null   float64       \n",
      " 4   Close      5432 non-null   float64       \n",
      " 5   Adj Close  5432 non-null   float64       \n",
      " 6   Volume     5432 non-null   float64       \n",
      "dtypes: datetime64[ns](1), float64(6)\n",
      "memory usage: 340.1 KB\n"
     ]
    }
   ],
   "source": [
    "ic.info()"
   ]
  },
  {
   "cell_type": "code",
   "execution_count": null,
   "metadata": {},
   "outputs": [],
   "source": []
  },
  {
   "cell_type": "code",
   "execution_count": 202,
   "metadata": {},
   "outputs": [
    {
     "name": "stdout",
     "output_type": "stream",
     "text": [
      "<class 'pandas.core.frame.DataFrame'>\n",
      "DatetimeIndex: 5442 entries, 2002-07-01 to 2024-05-17\n",
      "Data columns (total 7 columns):\n",
      " #   Column     Non-Null Count  Dtype         \n",
      "---  ------     --------------  -----         \n",
      " 0   Date       5442 non-null   datetime64[ns]\n",
      " 1   Open       5432 non-null   float64       \n",
      " 2   High       5432 non-null   float64       \n",
      " 3   Low        5432 non-null   float64       \n",
      " 4   Close      5432 non-null   float64       \n",
      " 5   Adj Close  5432 non-null   float64       \n",
      " 6   Volume     5432 non-null   float64       \n",
      "dtypes: datetime64[ns](1), float64(6)\n",
      "memory usage: 340.1 KB\n"
     ]
    }
   ],
   "source": [
    "ic['Date'] = pd.to_datetime(ic['Date'])\n",
    "ic.info()"
   ]
  },
  {
   "cell_type": "code",
   "execution_count": 203,
   "metadata": {},
   "outputs": [
    {
     "data": {
      "text/plain": [
       "Date          0\n",
       "Open         10\n",
       "High         10\n",
       "Low          10\n",
       "Close        10\n",
       "Adj Close    10\n",
       "Volume       10\n",
       "dtype: int64"
      ]
     },
     "execution_count": 203,
     "metadata": {},
     "output_type": "execute_result"
    }
   ],
   "source": [
    "ic.isnull().sum()"
   ]
  },
  {
   "cell_type": "code",
   "execution_count": 204,
   "metadata": {},
   "outputs": [],
   "source": [
    "# ic['Open'] = ic['Open'].fillna(ic['Open'].mean())\n",
    "# ic['High'] = ic['High'].fillna(ic['High'].mean())\n",
    "# ic['Low'] = ic['Low'].fillna(ic['Low'].mean())\n",
    "# ic['Close'] = ic['Open'].fillna(ic['Open'].mean())\n",
    "# ic['Adj Close'] = ic['Adj Close'].fillna(ic['Adj Close'].mean())\n",
    "# ic['Volume'] = ic['Volume'].fillna(ic['Volume'].mean())\n"
   ]
  },
  {
   "cell_type": "code",
   "execution_count": 205,
   "metadata": {},
   "outputs": [],
   "source": [
    "ic.dropna(axis=0,inplace=True)"
   ]
  },
  {
   "cell_type": "code",
   "execution_count": 206,
   "metadata": {},
   "outputs": [
    {
     "data": {
      "text/plain": [
       "Date         0\n",
       "Open         0\n",
       "High         0\n",
       "Low          0\n",
       "Close        0\n",
       "Adj Close    0\n",
       "Volume       0\n",
       "dtype: int64"
      ]
     },
     "execution_count": 206,
     "metadata": {},
     "output_type": "execute_result"
    }
   ],
   "source": [
    "ic.isnull().sum()"
   ]
  },
  {
   "cell_type": "code",
   "execution_count": 207,
   "metadata": {},
   "outputs": [],
   "source": [
    "data = ic['Open'].values.reshape(-1,1)\n",
    "# data2 = pd.DataFrame(data)\n",
    "# data2.tail(32)"
   ]
  },
  {
   "cell_type": "code",
   "execution_count": 208,
   "metadata": {},
   "outputs": [],
   "source": [
    "# data2 = data2.iloc[:-32]"
   ]
  },
  {
   "cell_type": "code",
   "execution_count": 209,
   "metadata": {},
   "outputs": [],
   "source": [
    "# data2.tail(5)"
   ]
  },
  {
   "cell_type": "code",
   "execution_count": 210,
   "metadata": {},
   "outputs": [],
   "source": [
    "# data2.shape"
   ]
  },
  {
   "cell_type": "code",
   "execution_count": null,
   "metadata": {},
   "outputs": [],
   "source": []
  },
  {
   "cell_type": "code",
   "execution_count": 211,
   "metadata": {},
   "outputs": [
    {
     "data": {
      "text/plain": [
       "(5432, 7)"
      ]
     },
     "execution_count": 211,
     "metadata": {},
     "output_type": "execute_result"
    }
   ],
   "source": [
    "ic.shape"
   ]
  },
  {
   "cell_type": "code",
   "execution_count": 212,
   "metadata": {},
   "outputs": [],
   "source": [
    "scal = MinMaxScaler(feature_range=(0, 1))"
   ]
  },
  {
   "cell_type": "code",
   "execution_count": 213,
   "metadata": {},
   "outputs": [],
   "source": [
    "# scal = MinMaxScaler(feature_range=(0, 1))"
   ]
  },
  {
   "cell_type": "code",
   "execution_count": 214,
   "metadata": {},
   "outputs": [],
   "source": [
    "open_scal = scal.fit_transform(data)"
   ]
  },
  {
   "cell_type": "code",
   "execution_count": 215,
   "metadata": {},
   "outputs": [],
   "source": [
    "# open_scal2 = scal.fit_transform(data2)"
   ]
  },
  {
   "cell_type": "code",
   "execution_count": 216,
   "metadata": {},
   "outputs": [],
   "source": [
    "def create_sequence(data,seq_length):\n",
    "    sequence = []\n",
    "    label=[]\n",
    "    for i in range(len(data)- seq_length):\n",
    "        sequence.append(data[i:i+seq_length])\n",
    "        label.append(data[i+seq_length])\n",
    "    return np.array(sequence), np.array(label)"
   ]
  },
  {
   "cell_type": "code",
   "execution_count": 217,
   "metadata": {},
   "outputs": [],
   "source": [
    "sequence_length = 20\n",
    "split_ratio = 0.8"
   ]
  },
  {
   "cell_type": "code",
   "execution_count": 218,
   "metadata": {},
   "outputs": [],
   "source": [
    "# X,y = create_sequence(open_scal2,sequence_length)\n",
    "# split = int(split_ratio *len(X))\n",
    "\n",
    "# X_train , X_test = X[:split] , X[split:]\n",
    "# y_train , y_test = y[:split] , y[split:]"
   ]
  },
  {
   "cell_type": "code",
   "execution_count": 219,
   "metadata": {},
   "outputs": [],
   "source": [
    "X,y = create_sequence(open_scal,sequence_length)\n",
    "split = int(split_ratio *len(X))\n",
    "\n",
    "X_train , X_test = X[:split] , X[split:]\n",
    "y_train , y_test = y[:split] , y[split:]"
   ]
  },
  {
   "cell_type": "code",
   "execution_count": 220,
   "metadata": {},
   "outputs": [
    {
     "name": "stdout",
     "output_type": "stream",
     "text": [
      "The shape of X_train (4329, 20, 1)\n",
      "The shape of y_train (4329, 1)\n",
      "The shape of X_test (1083, 20, 1)\n",
      "The shape of y_test (1083, 1)\n"
     ]
    }
   ],
   "source": [
    "print(\"The shape of X_train\" , X_train.shape)\n",
    "print(\"The shape of y_train\" , y_train.shape)\n",
    "print(\"The shape of X_test\" , X_test.shape)\n",
    "print(\"The shape of y_test\" , y_test.shape)"
   ]
  },
  {
   "cell_type": "code",
   "execution_count": 221,
   "metadata": {},
   "outputs": [
    {
     "name": "stderr",
     "output_type": "stream",
     "text": [
      "c:\\Users\\ommak\\AppData\\Local\\Programs\\Python\\Python312\\Lib\\site-packages\\keras\\src\\layers\\rnn\\rnn.py:204: UserWarning: Do not pass an `input_shape`/`input_dim` argument to a layer. When using Sequential models, prefer using an `Input(shape)` object as the first layer in the model instead.\n",
      "  super().__init__(**kwargs)\n"
     ]
    }
   ],
   "source": [
    "lstm = Sequential()\n",
    "lstm.add(LSTM(units=100,return_sequences=True,input_shape = (X_train.shape[1],X_train.shape[2])))\n",
    "lstm.add(Dropout(0.2))\n",
    "lstm.add(LSTM(units=100))\n",
    "lstm.add(Dropout(0.2))\n",
    "lstm.add(Dense(units=1))\n",
    "lstm.compile(optimizer='adam', loss='mean_squared_error')"
   ]
  },
  {
   "cell_type": "code",
   "execution_count": 222,
   "metadata": {},
   "outputs": [],
   "source": [
    "# regressorGRU = Sequential()\n",
    "# # First GRU layer with Dropout regularisation\n",
    "# regressorGRU.add(GRU(units=50, return_sequences=True, input_shape=(X_train.shape[1],1), activation='tanh'))\n",
    "# regressorGRU.add(Dropout(0.2))\n",
    "# # Second GRU layer\n",
    "# regressorGRU.add(GRU(units=50, return_sequences=True, input_shape=(X_train.shape[1],1), activation='tanh'))\n",
    "# regressorGRU.add(Dropout(0.2))\n",
    "# # Third GRU layer\n",
    "# regressorGRU.add(GRU(units=50, return_sequences=True, input_shape=(X_train.shape[1],1), activation='tanh'))\n",
    "# regressorGRU.add(Dropout(0.2))\n",
    "# # Fourth GRU layer\n",
    "# regressorGRU.add(GRU(units=50, activation='tanh'))\n",
    "# regressorGRU.add(Dropout(0.2))\n",
    "# # The output layer\n",
    "# regressorGRU.add(Dense(units=1))\n",
    "# regressorGRU.compile(optimizer=SGD, loss='mean_squared_error')"
   ]
  },
  {
   "cell_type": "code",
   "execution_count": 223,
   "metadata": {},
   "outputs": [
    {
     "name": "stdout",
     "output_type": "stream",
     "text": [
      "Epoch 1/100\n",
      "\u001b[1m136/136\u001b[0m \u001b[32m━━━━━━━━━━━━━━━━━━━━\u001b[0m\u001b[37m\u001b[0m \u001b[1m10s\u001b[0m 22ms/step - loss: 0.0026\n",
      "Epoch 2/100\n",
      "\u001b[1m136/136\u001b[0m \u001b[32m━━━━━━━━━━━━━━━━━━━━\u001b[0m\u001b[37m\u001b[0m \u001b[1m3s\u001b[0m 20ms/step - loss: 2.1048e-04\n",
      "Epoch 3/100\n",
      "\u001b[1m136/136\u001b[0m \u001b[32m━━━━━━━━━━━━━━━━━━━━\u001b[0m\u001b[37m\u001b[0m \u001b[1m3s\u001b[0m 21ms/step - loss: 1.8329e-04\n",
      "Epoch 4/100\n",
      "\u001b[1m136/136\u001b[0m \u001b[32m━━━━━━━━━━━━━━━━━━━━\u001b[0m\u001b[37m\u001b[0m \u001b[1m2s\u001b[0m 16ms/step - loss: 1.7682e-04\n",
      "Epoch 5/100\n",
      "\u001b[1m136/136\u001b[0m \u001b[32m━━━━━━━━━━━━━━━━━━━━\u001b[0m\u001b[37m\u001b[0m \u001b[1m3s\u001b[0m 19ms/step - loss: 1.4695e-04\n",
      "Epoch 6/100\n",
      "\u001b[1m136/136\u001b[0m \u001b[32m━━━━━━━━━━━━━━━━━━━━\u001b[0m\u001b[37m\u001b[0m \u001b[1m3s\u001b[0m 24ms/step - loss: 1.4665e-04\n",
      "Epoch 7/100\n",
      "\u001b[1m136/136\u001b[0m \u001b[32m━━━━━━━━━━━━━━━━━━━━\u001b[0m\u001b[37m\u001b[0m \u001b[1m3s\u001b[0m 21ms/step - loss: 1.4891e-04\n",
      "Epoch 8/100\n",
      "\u001b[1m136/136\u001b[0m \u001b[32m━━━━━━━━━━━━━━━━━━━━\u001b[0m\u001b[37m\u001b[0m \u001b[1m3s\u001b[0m 19ms/step - loss: 1.3600e-04\n",
      "Epoch 9/100\n",
      "\u001b[1m136/136\u001b[0m \u001b[32m━━━━━━━━━━━━━━━━━━━━\u001b[0m\u001b[37m\u001b[0m \u001b[1m2s\u001b[0m 14ms/step - loss: 1.2277e-04\n",
      "Epoch 10/100\n",
      "\u001b[1m136/136\u001b[0m \u001b[32m━━━━━━━━━━━━━━━━━━━━\u001b[0m\u001b[37m\u001b[0m \u001b[1m3s\u001b[0m 22ms/step - loss: 1.2425e-04\n",
      "Epoch 11/100\n",
      "\u001b[1m136/136\u001b[0m \u001b[32m━━━━━━━━━━━━━━━━━━━━\u001b[0m\u001b[37m\u001b[0m \u001b[1m3s\u001b[0m 21ms/step - loss: 1.1436e-04\n",
      "Epoch 12/100\n",
      "\u001b[1m136/136\u001b[0m \u001b[32m━━━━━━━━━━━━━━━━━━━━\u001b[0m\u001b[37m\u001b[0m \u001b[1m3s\u001b[0m 21ms/step - loss: 9.4606e-05\n",
      "Epoch 13/100\n",
      "\u001b[1m136/136\u001b[0m \u001b[32m━━━━━━━━━━━━━━━━━━━━\u001b[0m\u001b[37m\u001b[0m \u001b[1m3s\u001b[0m 24ms/step - loss: 9.7794e-05\n",
      "Epoch 14/100\n",
      "\u001b[1m136/136\u001b[0m \u001b[32m━━━━━━━━━━━━━━━━━━━━\u001b[0m\u001b[37m\u001b[0m \u001b[1m3s\u001b[0m 23ms/step - loss: 1.0515e-04\n",
      "Epoch 15/100\n",
      "\u001b[1m136/136\u001b[0m \u001b[32m━━━━━━━━━━━━━━━━━━━━\u001b[0m\u001b[37m\u001b[0m \u001b[1m3s\u001b[0m 21ms/step - loss: 9.2281e-05\n",
      "Epoch 16/100\n",
      "\u001b[1m136/136\u001b[0m \u001b[32m━━━━━━━━━━━━━━━━━━━━\u001b[0m\u001b[37m\u001b[0m \u001b[1m3s\u001b[0m 25ms/step - loss: 8.3087e-05\n",
      "Epoch 17/100\n",
      "\u001b[1m136/136\u001b[0m \u001b[32m━━━━━━━━━━━━━━━━━━━━\u001b[0m\u001b[37m\u001b[0m \u001b[1m3s\u001b[0m 19ms/step - loss: 8.9030e-05\n",
      "Epoch 18/100\n",
      "\u001b[1m136/136\u001b[0m \u001b[32m━━━━━━━━━━━━━━━━━━━━\u001b[0m\u001b[37m\u001b[0m \u001b[1m3s\u001b[0m 25ms/step - loss: 8.4936e-05\n",
      "Epoch 19/100\n",
      "\u001b[1m136/136\u001b[0m \u001b[32m━━━━━━━━━━━━━━━━━━━━\u001b[0m\u001b[37m\u001b[0m \u001b[1m3s\u001b[0m 20ms/step - loss: 8.1910e-05\n",
      "Epoch 20/100\n",
      "\u001b[1m136/136\u001b[0m \u001b[32m━━━━━━━━━━━━━━━━━━━━\u001b[0m\u001b[37m\u001b[0m \u001b[1m3s\u001b[0m 19ms/step - loss: 9.9456e-05\n",
      "Epoch 21/100\n",
      "\u001b[1m136/136\u001b[0m \u001b[32m━━━━━━━━━━━━━━━━━━━━\u001b[0m\u001b[37m\u001b[0m \u001b[1m3s\u001b[0m 22ms/step - loss: 7.7704e-05\n",
      "Epoch 22/100\n",
      "\u001b[1m136/136\u001b[0m \u001b[32m━━━━━━━━━━━━━━━━━━━━\u001b[0m\u001b[37m\u001b[0m \u001b[1m3s\u001b[0m 23ms/step - loss: 7.6641e-05\n",
      "Epoch 23/100\n",
      "\u001b[1m136/136\u001b[0m \u001b[32m━━━━━━━━━━━━━━━━━━━━\u001b[0m\u001b[37m\u001b[0m \u001b[1m3s\u001b[0m 20ms/step - loss: 6.9923e-05\n",
      "Epoch 24/100\n",
      "\u001b[1m136/136\u001b[0m \u001b[32m━━━━━━━━━━━━━━━━━━━━\u001b[0m\u001b[37m\u001b[0m \u001b[1m3s\u001b[0m 21ms/step - loss: 8.1353e-05\n",
      "Epoch 25/100\n",
      "\u001b[1m136/136\u001b[0m \u001b[32m━━━━━━━━━━━━━━━━━━━━\u001b[0m\u001b[37m\u001b[0m \u001b[1m3s\u001b[0m 19ms/step - loss: 6.9870e-05\n",
      "Epoch 26/100\n",
      "\u001b[1m136/136\u001b[0m \u001b[32m━━━━━━━━━━━━━━━━━━━━\u001b[0m\u001b[37m\u001b[0m \u001b[1m3s\u001b[0m 20ms/step - loss: 7.4430e-05\n",
      "Epoch 27/100\n",
      "\u001b[1m136/136\u001b[0m \u001b[32m━━━━━━━━━━━━━━━━━━━━\u001b[0m\u001b[37m\u001b[0m \u001b[1m3s\u001b[0m 23ms/step - loss: 6.9641e-05\n",
      "Epoch 28/100\n",
      "\u001b[1m136/136\u001b[0m \u001b[32m━━━━━━━━━━━━━━━━━━━━\u001b[0m\u001b[37m\u001b[0m \u001b[1m3s\u001b[0m 22ms/step - loss: 7.6438e-05\n",
      "Epoch 29/100\n",
      "\u001b[1m136/136\u001b[0m \u001b[32m━━━━━━━━━━━━━━━━━━━━\u001b[0m\u001b[37m\u001b[0m \u001b[1m2s\u001b[0m 18ms/step - loss: 7.3958e-05\n",
      "Epoch 30/100\n",
      "\u001b[1m136/136\u001b[0m \u001b[32m━━━━━━━━━━━━━━━━━━━━\u001b[0m\u001b[37m\u001b[0m \u001b[1m3s\u001b[0m 22ms/step - loss: 6.2627e-05\n",
      "Epoch 31/100\n",
      "\u001b[1m136/136\u001b[0m \u001b[32m━━━━━━━━━━━━━━━━━━━━\u001b[0m\u001b[37m\u001b[0m \u001b[1m4s\u001b[0m 26ms/step - loss: 7.0482e-05\n",
      "Epoch 32/100\n",
      "\u001b[1m136/136\u001b[0m \u001b[32m━━━━━━━━━━━━━━━━━━━━\u001b[0m\u001b[37m\u001b[0m \u001b[1m3s\u001b[0m 20ms/step - loss: 7.5235e-05\n",
      "Epoch 33/100\n",
      "\u001b[1m136/136\u001b[0m \u001b[32m━━━━━━━━━━━━━━━━━━━━\u001b[0m\u001b[37m\u001b[0m \u001b[1m3s\u001b[0m 22ms/step - loss: 7.1264e-05\n",
      "Epoch 34/100\n",
      "\u001b[1m136/136\u001b[0m \u001b[32m━━━━━━━━━━━━━━━━━━━━\u001b[0m\u001b[37m\u001b[0m \u001b[1m4s\u001b[0m 26ms/step - loss: 5.7599e-05\n",
      "Epoch 35/100\n",
      "\u001b[1m136/136\u001b[0m \u001b[32m━━━━━━━━━━━━━━━━━━━━\u001b[0m\u001b[37m\u001b[0m \u001b[1m3s\u001b[0m 22ms/step - loss: 6.6797e-05\n",
      "Epoch 36/100\n",
      "\u001b[1m136/136\u001b[0m \u001b[32m━━━━━━━━━━━━━━━━━━━━\u001b[0m\u001b[37m\u001b[0m \u001b[1m3s\u001b[0m 19ms/step - loss: 6.9906e-05\n",
      "Epoch 37/100\n",
      "\u001b[1m136/136\u001b[0m \u001b[32m━━━━━━━━━━━━━━━━━━━━\u001b[0m\u001b[37m\u001b[0m \u001b[1m3s\u001b[0m 24ms/step - loss: 6.5185e-05\n",
      "Epoch 38/100\n",
      "\u001b[1m136/136\u001b[0m \u001b[32m━━━━━━━━━━━━━━━━━━━━\u001b[0m\u001b[37m\u001b[0m \u001b[1m3s\u001b[0m 21ms/step - loss: 6.6555e-05\n",
      "Epoch 39/100\n",
      "\u001b[1m136/136\u001b[0m \u001b[32m━━━━━━━━━━━━━━━━━━━━\u001b[0m\u001b[37m\u001b[0m \u001b[1m3s\u001b[0m 22ms/step - loss: 7.1984e-05\n",
      "Epoch 40/100\n",
      "\u001b[1m136/136\u001b[0m \u001b[32m━━━━━━━━━━━━━━━━━━━━\u001b[0m\u001b[37m\u001b[0m \u001b[1m3s\u001b[0m 21ms/step - loss: 6.4316e-05\n",
      "Epoch 41/100\n",
      "\u001b[1m136/136\u001b[0m \u001b[32m━━━━━━━━━━━━━━━━━━━━\u001b[0m\u001b[37m\u001b[0m \u001b[1m3s\u001b[0m 19ms/step - loss: 7.6292e-05\n",
      "Epoch 42/100\n",
      "\u001b[1m136/136\u001b[0m \u001b[32m━━━━━━━━━━━━━━━━━━━━\u001b[0m\u001b[37m\u001b[0m \u001b[1m3s\u001b[0m 22ms/step - loss: 5.9882e-05\n",
      "Epoch 43/100\n",
      "\u001b[1m136/136\u001b[0m \u001b[32m━━━━━━━━━━━━━━━━━━━━\u001b[0m\u001b[37m\u001b[0m \u001b[1m3s\u001b[0m 23ms/step - loss: 6.8122e-05\n",
      "Epoch 44/100\n",
      "\u001b[1m136/136\u001b[0m \u001b[32m━━━━━━━━━━━━━━━━━━━━\u001b[0m\u001b[37m\u001b[0m \u001b[1m3s\u001b[0m 21ms/step - loss: 5.7358e-05\n",
      "Epoch 45/100\n",
      "\u001b[1m136/136\u001b[0m \u001b[32m━━━━━━━━━━━━━━━━━━━━\u001b[0m\u001b[37m\u001b[0m \u001b[1m3s\u001b[0m 21ms/step - loss: 7.7413e-05\n",
      "Epoch 46/100\n",
      "\u001b[1m136/136\u001b[0m \u001b[32m━━━━━━━━━━━━━━━━━━━━\u001b[0m\u001b[37m\u001b[0m \u001b[1m3s\u001b[0m 21ms/step - loss: 6.2141e-05\n",
      "Epoch 47/100\n",
      "\u001b[1m136/136\u001b[0m \u001b[32m━━━━━━━━━━━━━━━━━━━━\u001b[0m\u001b[37m\u001b[0m \u001b[1m3s\u001b[0m 19ms/step - loss: 6.4658e-05\n",
      "Epoch 48/100\n",
      "\u001b[1m136/136\u001b[0m \u001b[32m━━━━━━━━━━━━━━━━━━━━\u001b[0m\u001b[37m\u001b[0m \u001b[1m3s\u001b[0m 21ms/step - loss: 6.6353e-05\n",
      "Epoch 49/100\n",
      "\u001b[1m136/136\u001b[0m \u001b[32m━━━━━━━━━━━━━━━━━━━━\u001b[0m\u001b[37m\u001b[0m \u001b[1m3s\u001b[0m 23ms/step - loss: 5.9939e-05\n",
      "Epoch 50/100\n",
      "\u001b[1m136/136\u001b[0m \u001b[32m━━━━━━━━━━━━━━━━━━━━\u001b[0m\u001b[37m\u001b[0m \u001b[1m3s\u001b[0m 19ms/step - loss: 6.3763e-05\n",
      "Epoch 51/100\n",
      "\u001b[1m136/136\u001b[0m \u001b[32m━━━━━━━━━━━━━━━━━━━━\u001b[0m\u001b[37m\u001b[0m \u001b[1m3s\u001b[0m 19ms/step - loss: 6.4512e-05\n",
      "Epoch 52/100\n",
      "\u001b[1m136/136\u001b[0m \u001b[32m━━━━━━━━━━━━━━━━━━━━\u001b[0m\u001b[37m\u001b[0m \u001b[1m3s\u001b[0m 20ms/step - loss: 6.6591e-05\n",
      "Epoch 53/100\n",
      "\u001b[1m136/136\u001b[0m \u001b[32m━━━━━━━━━━━━━━━━━━━━\u001b[0m\u001b[37m\u001b[0m \u001b[1m3s\u001b[0m 18ms/step - loss: 5.8600e-05\n",
      "Epoch 54/100\n",
      "\u001b[1m136/136\u001b[0m \u001b[32m━━━━━━━━━━━━━━━━━━━━\u001b[0m\u001b[37m\u001b[0m \u001b[1m3s\u001b[0m 21ms/step - loss: 6.0165e-05\n",
      "Epoch 55/100\n",
      "\u001b[1m136/136\u001b[0m \u001b[32m━━━━━━━━━━━━━━━━━━━━\u001b[0m\u001b[37m\u001b[0m \u001b[1m3s\u001b[0m 20ms/step - loss: 5.7048e-05\n",
      "Epoch 56/100\n",
      "\u001b[1m136/136\u001b[0m \u001b[32m━━━━━━━━━━━━━━━━━━━━\u001b[0m\u001b[37m\u001b[0m \u001b[1m3s\u001b[0m 20ms/step - loss: 6.7169e-05\n",
      "Epoch 57/100\n",
      "\u001b[1m136/136\u001b[0m \u001b[32m━━━━━━━━━━━━━━━━━━━━\u001b[0m\u001b[37m\u001b[0m \u001b[1m3s\u001b[0m 21ms/step - loss: 6.6987e-05\n",
      "Epoch 58/100\n",
      "\u001b[1m136/136\u001b[0m \u001b[32m━━━━━━━━━━━━━━━━━━━━\u001b[0m\u001b[37m\u001b[0m \u001b[1m3s\u001b[0m 22ms/step - loss: 5.7525e-05\n",
      "Epoch 59/100\n",
      "\u001b[1m136/136\u001b[0m \u001b[32m━━━━━━━━━━━━━━━━━━━━\u001b[0m\u001b[37m\u001b[0m \u001b[1m3s\u001b[0m 23ms/step - loss: 5.8418e-05\n",
      "Epoch 60/100\n",
      "\u001b[1m136/136\u001b[0m \u001b[32m━━━━━━━━━━━━━━━━━━━━\u001b[0m\u001b[37m\u001b[0m \u001b[1m3s\u001b[0m 21ms/step - loss: 5.4350e-05\n",
      "Epoch 61/100\n",
      "\u001b[1m136/136\u001b[0m \u001b[32m━━━━━━━━━━━━━━━━━━━━\u001b[0m\u001b[37m\u001b[0m \u001b[1m3s\u001b[0m 24ms/step - loss: 6.1309e-05\n",
      "Epoch 62/100\n",
      "\u001b[1m136/136\u001b[0m \u001b[32m━━━━━━━━━━━━━━━━━━━━\u001b[0m\u001b[37m\u001b[0m \u001b[1m3s\u001b[0m 22ms/step - loss: 6.4634e-05\n",
      "Epoch 63/100\n",
      "\u001b[1m136/136\u001b[0m \u001b[32m━━━━━━━━━━━━━━━━━━━━\u001b[0m\u001b[37m\u001b[0m \u001b[1m3s\u001b[0m 21ms/step - loss: 6.1820e-05\n",
      "Epoch 64/100\n",
      "\u001b[1m136/136\u001b[0m \u001b[32m━━━━━━━━━━━━━━━━━━━━\u001b[0m\u001b[37m\u001b[0m \u001b[1m3s\u001b[0m 22ms/step - loss: 5.9094e-05\n",
      "Epoch 65/100\n",
      "\u001b[1m136/136\u001b[0m \u001b[32m━━━━━━━━━━━━━━━━━━━━\u001b[0m\u001b[37m\u001b[0m \u001b[1m3s\u001b[0m 20ms/step - loss: 5.9675e-05\n",
      "Epoch 66/100\n",
      "\u001b[1m136/136\u001b[0m \u001b[32m━━━━━━━━━━━━━━━━━━━━\u001b[0m\u001b[37m\u001b[0m \u001b[1m5s\u001b[0m 21ms/step - loss: 6.7696e-05\n",
      "Epoch 67/100\n",
      "\u001b[1m136/136\u001b[0m \u001b[32m━━━━━━━━━━━━━━━━━━━━\u001b[0m\u001b[37m\u001b[0m \u001b[1m3s\u001b[0m 23ms/step - loss: 5.5217e-05\n",
      "Epoch 68/100\n",
      "\u001b[1m136/136\u001b[0m \u001b[32m━━━━━━━━━━━━━━━━━━━━\u001b[0m\u001b[37m\u001b[0m \u001b[1m3s\u001b[0m 20ms/step - loss: 5.6657e-05\n",
      "Epoch 69/100\n",
      "\u001b[1m136/136\u001b[0m \u001b[32m━━━━━━━━━━━━━━━━━━━━\u001b[0m\u001b[37m\u001b[0m \u001b[1m3s\u001b[0m 24ms/step - loss: 5.7271e-05\n",
      "Epoch 70/100\n",
      "\u001b[1m136/136\u001b[0m \u001b[32m━━━━━━━━━━━━━━━━━━━━\u001b[0m\u001b[37m\u001b[0m \u001b[1m3s\u001b[0m 24ms/step - loss: 6.3020e-05\n",
      "Epoch 71/100\n",
      "\u001b[1m136/136\u001b[0m \u001b[32m━━━━━━━━━━━━━━━━━━━━\u001b[0m\u001b[37m\u001b[0m \u001b[1m3s\u001b[0m 23ms/step - loss: 5.6614e-05\n",
      "Epoch 72/100\n",
      "\u001b[1m136/136\u001b[0m \u001b[32m━━━━━━━━━━━━━━━━━━━━\u001b[0m\u001b[37m\u001b[0m \u001b[1m3s\u001b[0m 24ms/step - loss: 6.5282e-05\n",
      "Epoch 73/100\n",
      "\u001b[1m136/136\u001b[0m \u001b[32m━━━━━━━━━━━━━━━━━━━━\u001b[0m\u001b[37m\u001b[0m \u001b[1m3s\u001b[0m 20ms/step - loss: 6.2074e-05\n",
      "Epoch 74/100\n",
      "\u001b[1m136/136\u001b[0m \u001b[32m━━━━━━━━━━━━━━━━━━━━\u001b[0m\u001b[37m\u001b[0m \u001b[1m3s\u001b[0m 21ms/step - loss: 6.9295e-05\n",
      "Epoch 75/100\n",
      "\u001b[1m136/136\u001b[0m \u001b[32m━━━━━━━━━━━━━━━━━━━━\u001b[0m\u001b[37m\u001b[0m \u001b[1m3s\u001b[0m 18ms/step - loss: 6.3350e-05\n",
      "Epoch 76/100\n",
      "\u001b[1m136/136\u001b[0m \u001b[32m━━━━━━━━━━━━━━━━━━━━\u001b[0m\u001b[37m\u001b[0m \u001b[1m3s\u001b[0m 20ms/step - loss: 5.5016e-05\n",
      "Epoch 77/100\n",
      "\u001b[1m136/136\u001b[0m \u001b[32m━━━━━━━━━━━━━━━━━━━━\u001b[0m\u001b[37m\u001b[0m \u001b[1m4s\u001b[0m 25ms/step - loss: 5.9410e-05\n",
      "Epoch 78/100\n",
      "\u001b[1m136/136\u001b[0m \u001b[32m━━━━━━━━━━━━━━━━━━━━\u001b[0m\u001b[37m\u001b[0m \u001b[1m3s\u001b[0m 21ms/step - loss: 5.8447e-05\n",
      "Epoch 79/100\n",
      "\u001b[1m136/136\u001b[0m \u001b[32m━━━━━━━━━━━━━━━━━━━━\u001b[0m\u001b[37m\u001b[0m \u001b[1m3s\u001b[0m 21ms/step - loss: 6.3267e-05\n",
      "Epoch 80/100\n",
      "\u001b[1m136/136\u001b[0m \u001b[32m━━━━━━━━━━━━━━━━━━━━\u001b[0m\u001b[37m\u001b[0m \u001b[1m3s\u001b[0m 22ms/step - loss: 5.1701e-05\n",
      "Epoch 81/100\n",
      "\u001b[1m136/136\u001b[0m \u001b[32m━━━━━━━━━━━━━━━━━━━━\u001b[0m\u001b[37m\u001b[0m \u001b[1m3s\u001b[0m 22ms/step - loss: 5.4892e-05\n",
      "Epoch 82/100\n",
      "\u001b[1m136/136\u001b[0m \u001b[32m━━━━━━━━━━━━━━━━━━━━\u001b[0m\u001b[37m\u001b[0m \u001b[1m4s\u001b[0m 29ms/step - loss: 6.1981e-05\n",
      "Epoch 83/100\n",
      "\u001b[1m136/136\u001b[0m \u001b[32m━━━━━━━━━━━━━━━━━━━━\u001b[0m\u001b[37m\u001b[0m \u001b[1m3s\u001b[0m 24ms/step - loss: 5.8573e-05\n",
      "Epoch 84/100\n",
      "\u001b[1m136/136\u001b[0m \u001b[32m━━━━━━━━━━━━━━━━━━━━\u001b[0m\u001b[37m\u001b[0m \u001b[1m3s\u001b[0m 20ms/step - loss: 6.0671e-05\n",
      "Epoch 85/100\n",
      "\u001b[1m136/136\u001b[0m \u001b[32m━━━━━━━━━━━━━━━━━━━━\u001b[0m\u001b[37m\u001b[0m \u001b[1m3s\u001b[0m 25ms/step - loss: 6.4531e-05\n",
      "Epoch 86/100\n",
      "\u001b[1m136/136\u001b[0m \u001b[32m━━━━━━━━━━━━━━━━━━━━\u001b[0m\u001b[37m\u001b[0m \u001b[1m3s\u001b[0m 25ms/step - loss: 5.9803e-05\n",
      "Epoch 87/100\n",
      "\u001b[1m136/136\u001b[0m \u001b[32m━━━━━━━━━━━━━━━━━━━━\u001b[0m\u001b[37m\u001b[0m \u001b[1m3s\u001b[0m 22ms/step - loss: 5.7812e-05\n",
      "Epoch 88/100\n",
      "\u001b[1m136/136\u001b[0m \u001b[32m━━━━━━━━━━━━━━━━━━━━\u001b[0m\u001b[37m\u001b[0m \u001b[1m4s\u001b[0m 32ms/step - loss: 5.8382e-05\n",
      "Epoch 89/100\n",
      "\u001b[1m136/136\u001b[0m \u001b[32m━━━━━━━━━━━━━━━━━━━━\u001b[0m\u001b[37m\u001b[0m \u001b[1m3s\u001b[0m 22ms/step - loss: 5.3588e-05\n",
      "Epoch 90/100\n",
      "\u001b[1m136/136\u001b[0m \u001b[32m━━━━━━━━━━━━━━━━━━━━\u001b[0m\u001b[37m\u001b[0m \u001b[1m4s\u001b[0m 27ms/step - loss: 5.6074e-05\n",
      "Epoch 91/100\n",
      "\u001b[1m136/136\u001b[0m \u001b[32m━━━━━━━━━━━━━━━━━━━━\u001b[0m\u001b[37m\u001b[0m \u001b[1m3s\u001b[0m 22ms/step - loss: 6.1030e-05\n",
      "Epoch 92/100\n",
      "\u001b[1m136/136\u001b[0m \u001b[32m━━━━━━━━━━━━━━━━━━━━\u001b[0m\u001b[37m\u001b[0m \u001b[1m3s\u001b[0m 19ms/step - loss: 6.0302e-05\n",
      "Epoch 93/100\n",
      "\u001b[1m136/136\u001b[0m \u001b[32m━━━━━━━━━━━━━━━━━━━━\u001b[0m\u001b[37m\u001b[0m \u001b[1m2s\u001b[0m 17ms/step - loss: 6.5492e-05\n",
      "Epoch 94/100\n",
      "\u001b[1m136/136\u001b[0m \u001b[32m━━━━━━━━━━━━━━━━━━━━\u001b[0m\u001b[37m\u001b[0m \u001b[1m3s\u001b[0m 19ms/step - loss: 6.5673e-05\n",
      "Epoch 95/100\n",
      "\u001b[1m136/136\u001b[0m \u001b[32m━━━━━━━━━━━━━━━━━━━━\u001b[0m\u001b[37m\u001b[0m \u001b[1m2s\u001b[0m 17ms/step - loss: 5.7229e-05\n",
      "Epoch 96/100\n",
      "\u001b[1m136/136\u001b[0m \u001b[32m━━━━━━━━━━━━━━━━━━━━\u001b[0m\u001b[37m\u001b[0m \u001b[1m3s\u001b[0m 19ms/step - loss: 5.8236e-05\n",
      "Epoch 97/100\n",
      "\u001b[1m136/136\u001b[0m \u001b[32m━━━━━━━━━━━━━━━━━━━━\u001b[0m\u001b[37m\u001b[0m \u001b[1m3s\u001b[0m 19ms/step - loss: 6.1025e-05\n",
      "Epoch 98/100\n",
      "\u001b[1m136/136\u001b[0m \u001b[32m━━━━━━━━━━━━━━━━━━━━\u001b[0m\u001b[37m\u001b[0m \u001b[1m3s\u001b[0m 20ms/step - loss: 6.0504e-05\n",
      "Epoch 99/100\n",
      "\u001b[1m136/136\u001b[0m \u001b[32m━━━━━━━━━━━━━━━━━━━━\u001b[0m\u001b[37m\u001b[0m \u001b[1m2s\u001b[0m 18ms/step - loss: 5.9590e-05\n",
      "Epoch 100/100\n",
      "\u001b[1m136/136\u001b[0m \u001b[32m━━━━━━━━━━━━━━━━━━━━\u001b[0m\u001b[37m\u001b[0m \u001b[1m3s\u001b[0m 21ms/step - loss: 5.2334e-05\n"
     ]
    }
   ],
   "source": [
    "history = lstm.fit(X_train,y_train,epochs=100,batch_size=32)"
   ]
  },
  {
   "cell_type": "code",
   "execution_count": 224,
   "metadata": {},
   "outputs": [],
   "source": [
    "# regressorGRU.fit(X_train,y_train,epochs=250,batch_size=32)"
   ]
  },
  {
   "cell_type": "code",
   "execution_count": 225,
   "metadata": {},
   "outputs": [
    {
     "name": "stdout",
     "output_type": "stream",
     "text": [
      "\u001b[1m34/34\u001b[0m \u001b[32m━━━━━━━━━━━━━━━━━━━━\u001b[0m\u001b[37m\u001b[0m \u001b[1m3s\u001b[0m 26ms/step\n"
     ]
    }
   ],
   "source": [
    "y_pred = lstm.predict(X_test)"
   ]
  },
  {
   "cell_type": "code",
   "execution_count": null,
   "metadata": {},
   "outputs": [],
   "source": []
  },
  {
   "cell_type": "code",
   "execution_count": 226,
   "metadata": {},
   "outputs": [],
   "source": [
    "\n",
    "# actual_values_original_scale = scal.inverse_transform(y_test[-12:].reshape(-1, 1)).flatten()\n",
    "# predicted_values_original_scale = scal.inverse_transform(y_pred[-12:].reshape(-1, 1)).flatten()\n",
    "\n",
    "# last_12_dates = ic.index[-12:]\n",
    "\n",
    "# date_strings = [str(date) for date in last_12_dates]\n",
    "\n",
    "# plt.figure(figsize=(10,5))\n",
    "# plt.plot(last_12_dates,actual_values_original_scale,color='red', label='Actual Value')\n",
    "# plt.plot(last_12_dates,predicted_values_original_scale,color='navy', label='Predicted Value')\n",
    "# plt.title('Prediction by LSTM')\n",
    "# plt.xlabel('Date')\n",
    "# plt.ylabel('Price')\n",
    "# plt.legend()\n",
    "# plt.tight_layout() \n",
    "# plt.show()"
   ]
  },
  {
   "cell_type": "code",
   "execution_count": 227,
   "metadata": {},
   "outputs": [
    {
     "data": {
      "image/png": "[encoded data removed]",
      "text/plain": [
       "<Figure size 1000x500 with 1 Axes>"
      ]
     },
     "metadata": {},
     "output_type": "display_data"
    }
   ],
   "source": [
    "plt.figure(figsize=(10,5))\n",
    "plt.plot(y_test,color='red', label='Actual Value')\n",
    "plt.plot(y_pred,color='navy', label='Predicted Value')\n",
    "plt.title('Prediction by LSTM')\n",
    "plt.xlabel('Time Scale')\n",
    "plt.ylabel('Scaled INR')\n",
    "plt.legend()\n",
    "plt.show()"
   ]
  },
  {
   "cell_type": "code",
   "execution_count": 228,
   "metadata": {},
   "outputs": [],
   "source": [
    "\n",
    "# actual_values_original_scale = scal.inverse_transform(y_test[-12:].reshape(-1, 1)).flatten()\n",
    "# predicted_values_original_scale = scal.inverse_transform(y_pred[-12:].reshape(-1, 1)).flatten()\n",
    "\n",
    "# last_12_dates = ic.index[-12:]\n",
    "\n",
    "# date_strings = [str(date) for date in last_12_dates]\n",
    "\n",
    "# plt.figure(figsize=(10,5))\n",
    "# plt.plot(last_12_dates,actual_values_original_scale,color='red', label='Actual Value')\n",
    "# plt.plot(last_12_dates,predicted_values_original_scale,color='navy', label='Predicted Value')\n",
    "# plt.title('Prediction by LSTM')\n",
    "# plt.xlabel('Date')\n",
    "# plt.ylabel('Price')\n",
    "# plt.legend()\n",
    "# plt.tight_layout() \n",
    "# plt.show()"
   ]
  },
  {
   "cell_type": "code",
   "execution_count": 229,
   "metadata": {},
   "outputs": [
    {
     "name": "stdout",
     "output_type": "stream",
     "text": [
      "\u001b[1m34/34\u001b[0m \u001b[32m━━━━━━━━━━━━━━━━━━━━\u001b[0m\u001b[37m\u001b[0m \u001b[1m1s\u001b[0m 11ms/step - loss: 1.7305e-04\n",
      "Test Loss: 0.00017358880722895265\n"
     ]
    }
   ],
   "source": [
    "test_loss = lstm.evaluate(X_test, y_test)\n",
    "print(\"Test Loss:\", test_loss)"
   ]
  },
  {
   "cell_type": "code",
   "execution_count": 230,
   "metadata": {},
   "outputs": [
    {
     "name": "stdout",
     "output_type": "stream",
     "text": [
      "\u001b[1m34/34\u001b[0m \u001b[32m━━━━━━━━━━━━━━━━━━━━\u001b[0m\u001b[37m\u001b[0m \u001b[1m1s\u001b[0m 21ms/step - loss: 1.7305e-04\n",
      "Test Loss: 0.00017358880722895265\n"
     ]
    }
   ],
   "source": [
    "test_loss = lstm.evaluate(X_test, y_test)\n",
    "print(\"Test Loss:\", test_loss)"
   ]
  },
  {
   "cell_type": "code",
   "execution_count": 231,
   "metadata": {},
   "outputs": [
    {
     "name": "stdout",
     "output_type": "stream",
     "text": [
      "\u001b[1m1/1\u001b[0m \u001b[32m━━━━━━━━━━━━━━━━━━━━\u001b[0m\u001b[37m\u001b[0m \u001b[1m3s\u001b[0m 3s/step\n",
      "Predicted Price for Next day: [[1134.9054]]\n"
     ]
    }
   ],
   "source": [
    "sequence = open_scal\n",
    "sequence = sequence.reshape((1, sequence.shape[0], 1))\n",
    "predicted_price = lstm.predict(sequence)\n",
    "predicted_price = scal.inverse_transform(predicted_price)\n",
    "print(\"Predicted Price for Next day:\", predicted_price)"
   ]
  },
  {
   "cell_type": "code",
   "execution_count": 232,
   "metadata": {},
   "outputs": [],
   "source": [
    "# sequence = open_scal2\n",
    "# sequence = sequence.reshape((1, sequence.shape[0], 1))\n",
    "# predicted_price = lstm.predict(sequence)\n",
    "# predicted_price = scal.inverse_transform(predicted_price)\n",
    "# print(\"Predicted Price for Next day:\", predicted_price)"
   ]
  },
  {
   "cell_type": "code",
   "execution_count": 233,
   "metadata": {},
   "outputs": [
    {
     "data": {
      "image/png": "[encoded data removed]",
      "text/plain": [
       "<Figure size 1000x600 with 1 Axes>"
      ]
     },
     "metadata": {},
     "output_type": "display_data"
    }
   ],
   "source": [
    "#actual stock prices\n",
    "plt.figure(figsize=(10, 6))\n",
    "plt.plot(ic.index, ic['Close'], color='red', label='Actual')\n",
    "\n",
    "#predicted stock price\n",
    "plt.scatter(ic.index[-1], predicted_price, color='navy', label='Predicted')\n",
    "\n",
    "plt.xlabel('Date')\n",
    "plt.ylabel('Stock Price')\n",
    "plt.title('Actual vs Predicted Stock Prices')\n",
    "plt.legend()\n",
    "plt.show()"
   ]
  },
  {
   "cell_type": "code",
   "execution_count": 234,
   "metadata": {},
   "outputs": [
    {
     "data": {
      "image/png": "[encoded data removed]",
      "text/plain": [
       "<Figure size 1000x600 with 1 Axes>"
      ]
     },
     "metadata": {},
     "output_type": "display_data"
    }
   ],
   "source": [
    "plt.figure(figsize=(10, 6))\n",
    "plt.plot(ic.index, ic['Close'], color='red', label='Actual')\n",
    "\n",
    "#predicted stock price\n",
    "plt.scatter(ic.index[-1], predicted_price, color='navy', label='Predicted')\n",
    "\n",
    "plt.xlabel('Date')\n",
    "plt.ylabel('Stock Price')\n",
    "plt.title('Actual vs Predicted Stock Prices')\n",
    "plt.legend()\n",
    "plt.show()"
   ]
  },
  {
   "cell_type": "code",
   "execution_count": 235,
   "metadata": {},
   "outputs": [],
   "source": [
    "# lstm.save('lstm.h5')"
   ]
  },
  {
   "cell_type": "code",
   "execution_count": 236,
   "metadata": {},
   "outputs": [],
   "source": [
    "# from keras.models import load_model\n",
    "# import numpy as np\n",
    "# from sklearn.preprocessing import MinMaxScaler\n",
    "\n",
    "# # Load models\n",
    "# lstm_22_close = load_model('lstm.h5')\n",
    "\n",
    "# ici = pd.read_csv('ICICIBANK.yahoo22_5.csv')\n",
    "# ici.tail()\n",
    "\n",
    "# ici.dropna(axis=0,inplace=True)\n",
    "\n",
    "# data22 = ici['Open']\n",
    "\n",
    "# recent_prices_array = np.array(data22).reshape(-1, 1)\n",
    "\n",
    "\n",
    "# scaler = MinMaxScaler()\n",
    "# scaler.fit(recent_prices_array)\n",
    "\n",
    "# recent_prices_normalized = scaler.transform(recent_prices_array)\n",
    "\n",
    "\n",
    "# recent_prices_reshaped = recent_prices_normalized.reshape(-1, 1)\n",
    "\n",
    "# def create_sequence(data,seq_length):\n",
    "#     sequence = []\n",
    "#     label=[]\n",
    "#     for i in range(len(data)- seq_length):\n",
    "#         sequence.append(data[i:i+seq_length])\n",
    "#         label.append(data[i+seq_length])\n",
    "#     return np.array(sequence), np.array(label)\n",
    "\n",
    "# sequence_length = 20\n",
    "# split_ratio = 0.8\n",
    "\n",
    "# X,y = create_sequence(recent_prices_reshaped,sequence_length)\n",
    "# split = int(split_ratio *len(X))\n",
    "\n",
    "# X_train , X_test = X[:split] , X[split:]\n",
    "# y_train , y_test = y[:split] , y[split:]\n",
    "\n",
    "# sequence = recent_prices_normalized\n",
    "# sequence = sequence.reshape((1, sequence.shape[0], 1))\n",
    "# predicted_price = lstm.predict(sequence)\n",
    "# predicted_price = scal.inverse_transform(predicted_price)\n",
    "# print(\"Predicted Price for Next day:\", predicted_price)"
   ]
  },
  {
   "cell_type": "code",
   "execution_count": 237,
   "metadata": {},
   "outputs": [
    {
     "name": "stderr",
     "output_type": "stream",
     "text": [
      "WARNING:absl:Compiled the loaded model, but the compiled metrics have yet to be built. `model.compile_metrics` will be empty until you train or evaluate the model.\n"
     ]
    },
    {
     "name": "stdout",
     "output_type": "stream",
     "text": [
      "\u001b[1m1/1\u001b[0m \u001b[32m━━━━━━━━━━━━━━━━━━━━\u001b[0m\u001b[37m\u001b[0m \u001b[1m5s\u001b[0m 5s/step\n",
      "Predicted Price for Next day: [[1124.6642]]\n"
     ]
    }
   ],
   "source": [
    "from keras.models import load_model\n",
    "import numpy as np\n",
    "from sklearn.preprocessing import MinMaxScaler\n",
    "\n",
    "# Load models\n",
    "lstm_22_close = load_model('lstm.h5')\n",
    "\n",
    "ici = pd.read_csv('ICICIBANK.yahoo22_5.csv')\n",
    "ici.tail()\n",
    "\n",
    "ici.dropna(axis=0,inplace=True)\n",
    "\n",
    "data22 = ici['Open']\n",
    "\n",
    "recent_prices_array = np.array(data22).reshape(-1, 1)\n",
    "\n",
    "\n",
    "scaler = MinMaxScaler()\n",
    "scaler.fit(recent_prices_array)\n",
    "\n",
    "recent_prices_normalized = scaler.transform(recent_prices_array)\n",
    "\n",
    "\n",
    "recent_prices_reshaped = recent_prices_normalized.reshape(-1, 1)\n",
    "\n",
    "def create_sequence(data,seq_length):\n",
    "    sequence = []\n",
    "    label=[]\n",
    "    for i in range(len(data)- seq_length):\n",
    "        sequence.append(data[i:i+seq_length])\n",
    "        label.append(data[i+seq_length])\n",
    "    return np.array(sequence), np.array(label)\n",
    "\n",
    "sequence_length = 20\n",
    "split_ratio = 0.8\n",
    "\n",
    "X,y = create_sequence(recent_prices_reshaped,sequence_length)\n",
    "split = int(split_ratio *len(X))\n",
    "\n",
    "X_train , X_test = X[:split] , X[split:]\n",
    "y_train , y_test = y[:split] , y[split:]\n",
    "\n",
    "sequence = recent_prices_normalized\n",
    "sequence = sequence.reshape((1, sequence.shape[0], 1))\n",
    "predicted_price = lstm_22_close.predict(sequence)\n",
    "predicted_price = scal.inverse_transform(predicted_price)\n",
    "print(\"Predicted Price for Next day:\", predicted_price)"
   ]
  },
  {
   "cell_type": "code",
   "execution_count": 238,
   "metadata": {},
   "outputs": [
    {
     "data": {
      "text/html": [
       "<div>\n",
       "<style scoped>\n",
       "    .dataframe tbody tr th:only-of-type {\n",
       "        vertical-align: middle;\n",
       "    }\n",
       "\n",
       "    .dataframe tbody tr th {\n",
       "        vertical-align: top;\n",
       "    }\n",
       "\n",
       "    .dataframe thead th {\n",
       "        text-align: right;\n",
       "    }\n",
       "</style>\n",
       "<table border=\"1\" class=\"dataframe\">\n",
       "  <thead>\n",
       "    <tr style=\"text-align: right;\">\n",
       "      <th></th>\n",
       "      <th>Date</th>\n",
       "      <th>Open</th>\n",
       "      <th>High</th>\n",
       "      <th>Low</th>\n",
       "      <th>Close</th>\n",
       "      <th>Adj Close</th>\n",
       "      <th>Volume</th>\n",
       "    </tr>\n",
       "  </thead>\n",
       "  <tbody>\n",
       "    <tr>\n",
       "      <th>5439</th>\n",
       "      <td>2024-05-15</td>\n",
       "      <td>1122.099976</td>\n",
       "      <td>1127.800049</td>\n",
       "      <td>1113.500000</td>\n",
       "      <td>1124.349976</td>\n",
       "      <td>1124.349976</td>\n",
       "      <td>10743423.0</td>\n",
       "    </tr>\n",
       "    <tr>\n",
       "      <th>5440</th>\n",
       "      <td>2024-05-16</td>\n",
       "      <td>1133.000000</td>\n",
       "      <td>1136.550049</td>\n",
       "      <td>1112.800049</td>\n",
       "      <td>1131.050049</td>\n",
       "      <td>1131.050049</td>\n",
       "      <td>14265565.0</td>\n",
       "    </tr>\n",
       "    <tr>\n",
       "      <th>5441</th>\n",
       "      <td>2024-05-17</td>\n",
       "      <td>1131.050049</td>\n",
       "      <td>1144.000000</td>\n",
       "      <td>1120.599976</td>\n",
       "      <td>1130.500000</td>\n",
       "      <td>1130.500000</td>\n",
       "      <td>8641784.0</td>\n",
       "    </tr>\n",
       "    <tr>\n",
       "      <th>5442</th>\n",
       "      <td>2024-05-21</td>\n",
       "      <td>1122.199951</td>\n",
       "      <td>1133.800049</td>\n",
       "      <td>1116.250000</td>\n",
       "      <td>1120.949951</td>\n",
       "      <td>1120.949951</td>\n",
       "      <td>10452900.0</td>\n",
       "    </tr>\n",
       "    <tr>\n",
       "      <th>5443</th>\n",
       "      <td>2024-05-22</td>\n",
       "      <td>1125.000000</td>\n",
       "      <td>1125.900024</td>\n",
       "      <td>1098.099976</td>\n",
       "      <td>1111.099976</td>\n",
       "      <td>1111.099976</td>\n",
       "      <td>17525523.0</td>\n",
       "    </tr>\n",
       "  </tbody>\n",
       "</table>\n",
       "</div>"
      ],
      "text/plain": [
       "            Date         Open         High          Low        Close  \\\n",
       "5439  2024-05-15  1122.099976  1127.800049  1113.500000  1124.349976   \n",
       "5440  2024-05-16  1133.000000  1136.550049  1112.800049  1131.050049   \n",
       "5441  2024-05-17  1131.050049  1144.000000  1120.599976  1130.500000   \n",
       "5442  2024-05-21  1122.199951  1133.800049  1116.250000  1120.949951   \n",
       "5443  2024-05-22  1125.000000  1125.900024  1098.099976  1111.099976   \n",
       "\n",
       "        Adj Close      Volume  \n",
       "5439  1124.349976  10743423.0  \n",
       "5440  1131.050049  14265565.0  \n",
       "5441  1130.500000   8641784.0  \n",
       "5442  1120.949951  10452900.0  \n",
       "5443  1111.099976  17525523.0  "
      ]
     },
     "execution_count": 238,
     "metadata": {},
     "output_type": "execute_result"
    }
   ],
   "source": [
    "icici = pd.read_csv('ICICIBANK.23.csv')\n",
    "icici.tail()"
   ]
  },
  {
   "cell_type": "code",
   "execution_count": 239,
   "metadata": {},
   "outputs": [
    {
     "name": "stderr",
     "output_type": "stream",
     "text": [
      "WARNING:absl:Compiled the loaded model, but the compiled metrics have yet to be built. `model.compile_metrics` will be empty until you train or evaluate the model.\n"
     ]
    },
    {
     "name": "stdout",
     "output_type": "stream",
     "text": [
      "\u001b[1m1/1\u001b[0m \u001b[32m━━━━━━━━━━━━━━━━━━━━\u001b[0m\u001b[37m\u001b[0m \u001b[1m1s\u001b[0m 1s/step\n",
      "Predicted Price for Next day: [[1123.2474]]\n"
     ]
    }
   ],
   "source": [
    "from keras.models import load_model\n",
    "import numpy as np\n",
    "from sklearn.preprocessing import MinMaxScaler\n",
    "\n",
    "# Load models\n",
    "lstm_22_close = load_model('lstm.h5')\n",
    "\n",
    "ici = pd.read_csv('ICICIBANK.23.csv')\n",
    "ici.tail()\n",
    "\n",
    "ici.dropna(axis=0,inplace=True)\n",
    "\n",
    "data22 = ici['Open']\n",
    "\n",
    "recent_prices_array = np.array(data22).reshape(-1, 1)\n",
    "\n",
    "\n",
    "scaler = MinMaxScaler()\n",
    "scaler.fit(recent_prices_array)\n",
    "\n",
    "recent_prices_normalized = scaler.transform(recent_prices_array)\n",
    "\n",
    "recent_prices_reshaped = recent_prices_normalized.reshape(-1, 1)\n",
    "\n",
    "def create_sequence(data,seq_length):\n",
    "    sequence = []\n",
    "    label=[]\n",
    "    for i in range(len(data)- seq_length):\n",
    "        sequence.append(data[i:i+seq_length])\n",
    "        label.append(data[i+seq_length])\n",
    "    return np.array(sequence), np.array(label)\n",
    "\n",
    "sequence_length = 20\n",
    "split_ratio = 0.8\n",
    "\n",
    "X,y = create_sequence(recent_prices_reshaped,sequence_length)\n",
    "split = int(split_ratio *len(X))\n",
    "\n",
    "X_train , X_test = X[:split] , X[split:]\n",
    "y_train , y_test = y[:split] , y[split:]\n",
    "\n",
    "sequence = recent_prices_normalized\n",
    "sequence = sequence.reshape((1, sequence.shape[0], 1))\n",
    "predicted_price = lstm_22_close.predict(sequence)\n",
    "predicted_price = scal.inverse_transform(predicted_price)\n",
    "print(\"Predicted Price for Next day:\", predicted_price)"
   ]
  },
  {
   "cell_type": "code",
   "execution_count": 240,
   "metadata": {},
   "outputs": [
    {
     "name": "stderr",
     "output_type": "stream",
     "text": [
      "WARNING:absl:Compiled the loaded model, but the compiled metrics have yet to be built. `model.compile_metrics` will be empty until you train or evaluate the model.\n"
     ]
    },
    {
     "name": "stdout",
     "output_type": "stream",
     "text": [
      "\u001b[1m1/1\u001b[0m \u001b[32m━━━━━━━━━━━━━━━━━━━━\u001b[0m\u001b[37m\u001b[0m \u001b[1m0s\u001b[0m 456ms/step\n",
      "Predicted Price for Next day: [[1130.5021]]\n"
     ]
    }
   ],
   "source": [
    "from keras.models import load_model\n",
    "import numpy as np\n",
    "from sklearn.preprocessing import MinMaxScaler\n",
    "\n",
    "# Load models\n",
    "lstm_22_close = load_model('lstm.h5')\n",
    "\n",
    "ici = pd.read_csv('ICICIBANK.23.csv')\n",
    "ici.tail()\n",
    "\n",
    "ici.dropna(axis=0,inplace=True)\n",
    "\n",
    "data22 = ici['Open']\n",
    "\n",
    "recent_prices_array = np.array(data22).reshape(-1, 1)\n",
    "\n",
    "\n",
    "scaler = MinMaxScaler()\n",
    "scaler.fit(recent_prices_array)\n",
    "\n",
    "recent_prices_normalized = scaler.transform(recent_prices_array)\n",
    "\n",
    "\n",
    "recent_prices_reshaped = recent_prices_normalized.reshape(-1, 1)\n",
    "\n",
    "def create_sequence(data,seq_length):\n",
    "    sequence = []\n",
    "    label=[]\n",
    "    for i in range(len(data)- seq_length):\n",
    "        sequence.append(data[i:i+seq_length])\n",
    "        label.append(data[i+seq_length])\n",
    "    return np.array(sequence), np.array(label)\n",
    "\n",
    "sequence_length = 20\n",
    "split_ratio = 0.8\n",
    "\n",
    "X,y = create_sequence(recent_prices_reshaped,sequence_length)\n",
    "split = int(split_ratio *len(X))\n",
    "\n",
    "X_train , X_test = X[:split] , X[split:]\n",
    "y_train , y_test = y[:split] , y[split:]\n",
    "\n",
    "sequence = recent_prices_normalized\n",
    "sequence = sequence.reshape((1, sequence.shape[0], 1))\n",
    "predicted_price = lstm.predict(sequence)\n",
    "predicted_price = scal.inverse_transform(predicted_price)\n",
    "print(\"Predicted Price for Next day:\", predicted_price)"
   ]
  },
  {
   "cell_type": "code",
   "execution_count": null,
   "metadata": {},
   "outputs": [],
   "source": []
  }
 ],
 "metadata": {
  "kernelspec": {
   "display_name": "Python 3",
   "language": "python",
   "name": "python3"
  },
  "language_info": {
   "codemirror_mode": {
    "name": "ipython",
    "version": 3
   },
   "file_extension": ".py",
   "mimetype": "text/x-python",
   "name": "python",
   "nbconvert_exporter": "python",
   "pygments_lexer": "ipython3",
   "version": "3.12.3"
  }
 },
 "nbformat": 4,
 "nbformat_minor": 2
}
